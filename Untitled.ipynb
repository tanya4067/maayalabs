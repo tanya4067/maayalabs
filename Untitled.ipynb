{
 "cells": [
  {
   "cell_type": "code",
   "execution_count": 1,
   "metadata": {},
   "outputs": [],
   "source": [
    "import pandas as pd\n",
    "import numpy as np \n",
    "import matplotlib as plt"
   ]
  },
  {
   "cell_type": "code",
   "execution_count": 2,
   "metadata": {},
   "outputs": [],
   "source": [
    "gender=pd.read_csv('fb_daily_age_gender.csv')\n",
    "platform=pd.read_csv('fb_daily_publisher_platform.csv')\n",
    "region=pd.read_csv('fb_daily_region.csv')\n",
    "ga_daily=pd.read_csv('ga_daily.csv')"
   ]
  },
  {
   "cell_type": "code",
   "execution_count": 8,
   "metadata": {},
   "outputs": [
    {
     "name": "stdout",
     "output_type": "stream",
     "text": [
      "<class 'pandas.core.frame.DataFrame'>\n",
      "RangeIndex: 1880 entries, 0 to 1879\n",
      "Data columns (total 42 columns):\n",
      " #   Column                                                       Non-Null Count  Dtype  \n",
      "---  ------                                                       --------------  -----  \n",
      " 0   ad_id                                                        1880 non-null   int64  \n",
      " 1   clicks                                                       1880 non-null   int64  \n",
      " 2   impressions                                                  1880 non-null   int64  \n",
      " 3   date_start                                                   1880 non-null   object \n",
      " 4   date_stop                                                    1880 non-null   object \n",
      " 5   reach                                                        1880 non-null   int64  \n",
      " 6   frequency                                                    1880 non-null   float64\n",
      " 7   spend                                                        1880 non-null   float64\n",
      " 8   age                                                          1880 non-null   object \n",
      " 9   gender                                                       1880 non-null   object \n",
      " 10  website_ctr                                                  796 non-null    float64\n",
      " 11  actions_onsite_conversion.post_save                          87 non-null     float64\n",
      " 12  actions_link_click                                           796 non-null    float64\n",
      " 13  actions_post_reaction                                        327 non-null    float64\n",
      " 14  actions_post_engagement                                      824 non-null    float64\n",
      " 15  actions_page_engagement                                      824 non-null    float64\n",
      " 16  action_values_offsite_conversion.fb_pixel_add_to_cart        37 non-null     float64\n",
      " 17  action_values_offsite_conversion.fb_pixel_initiate_checkout  35 non-null     float64\n",
      " 18  action_values_offsite_conversion.fb_pixel_view_content       221 non-null    float64\n",
      " 19  action_values_omni_add_to_cart                               37 non-null     float64\n",
      " 20  action_values_omni_initiated_checkout                        35 non-null     float64\n",
      " 21  action_values_omni_view_content                              221 non-null    float64\n",
      " 22  action_values_add_to_cart                                    37 non-null     float64\n",
      " 23  action_values_initiate_checkout                              35 non-null     float64\n",
      " 24  actions_offsite_conversion.fb_pixel_add_to_cart              40 non-null     float64\n",
      " 25  actions_offsite_conversion.fb_pixel_initiate_checkout        45 non-null     float64\n",
      " 26  actions_offsite_conversion.fb_pixel_view_content             224 non-null    float64\n",
      " 27  actions_add_to_cart                                          40 non-null     float64\n",
      " 28  actions_initiate_checkout                                    45 non-null     float64\n",
      " 29  actions_landing_page_view                                    219 non-null    float64\n",
      " 30  actions_view_content                                         224 non-null    float64\n",
      " 31  actions_post                                                 22 non-null     float64\n",
      " 32  action_values_offsite_conversion.fb_pixel_add_payment_info   24 non-null     float64\n",
      " 33  action_values_offsite_conversion.fb_pixel_purchase           24 non-null     float64\n",
      " 34  action_values_add_payment_info                               24 non-null     float64\n",
      " 35  actions_offsite_conversion.fb_pixel_add_payment_info         24 non-null     float64\n",
      " 36  actions_offsite_conversion.fb_pixel_purchase                 24 non-null     float64\n",
      " 37  actions_purchase                                             24 non-null     float64\n",
      " 38  actions_offsite_conversion.fb_pixel_search                   7 non-null      float64\n",
      " 39  actions_search                                               7 non-null      float64\n",
      " 40  actions_offsite_conversion.fb_pixel_lead                     3 non-null      float64\n",
      " 41  actions_comment                                              5 non-null      float64\n",
      "dtypes: float64(34), int64(4), object(4)\n",
      "memory usage: 617.0+ KB\n"
     ]
    }
   ],
   "source": [
    "gender.info()"
   ]
  },
  {
   "cell_type": "code",
   "execution_count": 9,
   "metadata": {},
   "outputs": [
    {
     "name": "stdout",
     "output_type": "stream",
     "text": [
      "<class 'pandas.core.frame.DataFrame'>\n",
      "RangeIndex: 1121 entries, 0 to 1120\n",
      "Data columns (total 41 columns):\n",
      " #   Column                                                       Non-Null Count  Dtype  \n",
      "---  ------                                                       --------------  -----  \n",
      " 0   ad_id                                                        1121 non-null   int64  \n",
      " 1   clicks                                                       1121 non-null   int64  \n",
      " 2   impressions                                                  1121 non-null   int64  \n",
      " 3   date_start                                                   1121 non-null   object \n",
      " 4   date_stop                                                    1121 non-null   object \n",
      " 5   website_ctr                                                  472 non-null    float64\n",
      " 6   reach                                                        1121 non-null   int64  \n",
      " 7   frequency                                                    1121 non-null   float64\n",
      " 8   spend                                                        1121 non-null   float64\n",
      " 9   publisher_platform                                           1121 non-null   object \n",
      " 10  actions_link_click                                           472 non-null    float64\n",
      " 11  actions_post_engagement                                      484 non-null    float64\n",
      " 12  actions_page_engagement                                      484 non-null    float64\n",
      " 13  actions_onsite_conversion.post_save                          75 non-null     float64\n",
      " 14  actions_post_reaction                                        230 non-null    float64\n",
      " 15  action_values_offsite_conversion.fb_pixel_add_to_cart        37 non-null     float64\n",
      " 16  action_values_offsite_conversion.fb_pixel_initiate_checkout  35 non-null     float64\n",
      " 17  action_values_offsite_conversion.fb_pixel_view_content       221 non-null    float64\n",
      " 18  action_values_omni_add_to_cart                               37 non-null     float64\n",
      " 19  action_values_omni_initiated_checkout                        35 non-null     float64\n",
      " 20  action_values_omni_view_content                              221 non-null    float64\n",
      " 21  action_values_add_to_cart                                    37 non-null     float64\n",
      " 22  action_values_initiate_checkout                              35 non-null     float64\n",
      " 23  actions_offsite_conversion.fb_pixel_add_to_cart              40 non-null     float64\n",
      " 24  actions_offsite_conversion.fb_pixel_initiate_checkout        45 non-null     float64\n",
      " 25  actions_offsite_conversion.fb_pixel_view_content             224 non-null    float64\n",
      " 26  actions_add_to_cart                                          40 non-null     float64\n",
      " 27  actions_initiate_checkout                                    45 non-null     float64\n",
      " 28  actions_landing_page_view                                    219 non-null    float64\n",
      " 29  actions_view_content                                         224 non-null    float64\n",
      " 30  actions_post                                                 22 non-null     float64\n",
      " 31  action_values_offsite_conversion.fb_pixel_add_payment_info   24 non-null     float64\n",
      " 32  action_values_offsite_conversion.fb_pixel_purchase           24 non-null     float64\n",
      " 33  action_values_add_payment_info                               24 non-null     float64\n",
      " 34  actions_offsite_conversion.fb_pixel_add_payment_info         24 non-null     float64\n",
      " 35  actions_offsite_conversion.fb_pixel_purchase                 24 non-null     float64\n",
      " 36  actions_purchase                                             24 non-null     float64\n",
      " 37  actions_offsite_conversion.fb_pixel_search                   7 non-null      float64\n",
      " 38  actions_search                                               7 non-null      float64\n",
      " 39  actions_offsite_conversion.fb_pixel_lead                     3 non-null      float64\n",
      " 40  actions_comment                                              5 non-null      float64\n",
      "dtypes: float64(34), int64(4), object(3)\n",
      "memory usage: 359.2+ KB\n"
     ]
    }
   ],
   "source": [
    "platform.info()"
   ]
  },
  {
   "cell_type": "code",
   "execution_count": 10,
   "metadata": {},
   "outputs": [
    {
     "name": "stdout",
     "output_type": "stream",
     "text": [
      "<class 'pandas.core.frame.DataFrame'>\n",
      "RangeIndex: 7691 entries, 0 to 7690\n",
      "Data columns (total 41 columns):\n",
      " #   Column                                                       Non-Null Count  Dtype  \n",
      "---  ------                                                       --------------  -----  \n",
      " 0   ad_id                                                        7691 non-null   int64  \n",
      " 1   clicks                                                       7691 non-null   int64  \n",
      " 2   impressions                                                  7691 non-null   int64  \n",
      " 3   date_start                                                   7691 non-null   object \n",
      " 4   date_stop                                                    7691 non-null   object \n",
      " 5   reach                                                        7691 non-null   int64  \n",
      " 6   frequency                                                    7691 non-null   float64\n",
      " 7   spend                                                        7691 non-null   float64\n",
      " 8   region                                                       7691 non-null   object \n",
      " 9   website_ctr                                                  2260 non-null   float64\n",
      " 10  actions_link_click                                           2260 non-null   float64\n",
      " 11  actions_post_engagement                                      2434 non-null   float64\n",
      " 12  actions_page_engagement                                      2434 non-null   float64\n",
      " 13  actions_onsite_conversion.post_save                          108 non-null    float64\n",
      " 14  actions_post_reaction                                        542 non-null    float64\n",
      " 15  action_values_offsite_conversion.fb_pixel_add_to_cart        37 non-null     float64\n",
      " 16  action_values_offsite_conversion.fb_pixel_initiate_checkout  35 non-null     float64\n",
      " 17  action_values_offsite_conversion.fb_pixel_view_content       221 non-null    float64\n",
      " 18  action_values_add_to_cart                                    37 non-null     float64\n",
      " 19  action_values_initiate_checkout                              35 non-null     float64\n",
      " 20  action_values_omni_add_to_cart                               37 non-null     float64\n",
      " 21  action_values_omni_initiated_checkout                        35 non-null     float64\n",
      " 22  action_values_omni_view_content                              221 non-null    float64\n",
      " 23  actions_landing_page_view                                    219 non-null    float64\n",
      " 24  actions_offsite_conversion.fb_pixel_add_to_cart              40 non-null     float64\n",
      " 25  actions_offsite_conversion.fb_pixel_initiate_checkout        45 non-null     float64\n",
      " 26  actions_offsite_conversion.fb_pixel_view_content             224 non-null    float64\n",
      " 27  actions_add_to_cart                                          40 non-null     float64\n",
      " 28  actions_initiate_checkout                                    45 non-null     float64\n",
      " 29  actions_view_content                                         224 non-null    float64\n",
      " 30  actions_post                                                 22 non-null     float64\n",
      " 31  action_values_offsite_conversion.fb_pixel_add_payment_info   24 non-null     float64\n",
      " 32  action_values_offsite_conversion.fb_pixel_purchase           24 non-null     float64\n",
      " 33  action_values_add_payment_info                               24 non-null     float64\n",
      " 34  actions_offsite_conversion.fb_pixel_add_payment_info         24 non-null     float64\n",
      " 35  actions_offsite_conversion.fb_pixel_purchase                 24 non-null     float64\n",
      " 36  actions_purchase                                             24 non-null     float64\n",
      " 37  actions_offsite_conversion.fb_pixel_search                   7 non-null      float64\n",
      " 38  actions_search                                               7 non-null      float64\n",
      " 39  actions_offsite_conversion.fb_pixel_lead                     3 non-null      float64\n",
      " 40  actions_comment                                              5 non-null      float64\n",
      "dtypes: float64(34), int64(4), object(3)\n",
      "memory usage: 2.4+ MB\n"
     ]
    }
   ],
   "source": [
    "region.info()"
   ]
  },
  {
   "cell_type": "code",
   "execution_count": 11,
   "metadata": {},
   "outputs": [
    {
     "name": "stdout",
     "output_type": "stream",
     "text": [
      "<class 'pandas.core.frame.DataFrame'>\n",
      "RangeIndex: 362 entries, 0 to 361\n",
      "Data columns (total 13 columns):\n",
      " #   Column                     Non-Null Count  Dtype  \n",
      "---  ------                     --------------  -----  \n",
      " 0   start_date                 362 non-null    object \n",
      " 1   end_date                   362 non-null    object \n",
      " 2   ga:sourceMedium            362 non-null    object \n",
      " 3   ga:currencyCode            362 non-null    object \n",
      " 4   ga:sessions                362 non-null    int64  \n",
      " 5   ga:organicSearches         362 non-null    int64  \n",
      " 6   ga:users                   362 non-null    int64  \n",
      " 7   ga:transactions            362 non-null    int64  \n",
      " 8   ga:transactionsPerSession  362 non-null    float64\n",
      " 9   ga:transactionRevenue      362 non-null    float64\n",
      " 10  ga:totalValue              362 non-null    float64\n",
      " 11  ga:itemQuantity            362 non-null    int64  \n",
      " 12  ga:transactionsPerUser     362 non-null    float64\n",
      "dtypes: float64(4), int64(5), object(4)\n",
      "memory usage: 36.9+ KB\n"
     ]
    }
   ],
   "source": [
    "ga_daily.info()"
   ]
  },
  {
   "cell_type": "code",
   "execution_count": 30,
   "metadata": {},
   "outputs": [],
   "source": [
    "df=pd.DataFrame()"
   ]
  },
  {
   "cell_type": "code",
   "execution_count": 29,
   "metadata": {},
   "outputs": [
    {
     "name": "stdout",
     "output_type": "stream",
     "text": [
      "['facebook', 'instagram', 'messenger', 'unknown', 'audience_network']\n"
     ]
    }
   ],
   "source": [
    "l1=list(platform['publisher_platform'].unique())\n",
    "print(l1)"
   ]
  },
  {
   "cell_type": "code",
   "execution_count": 20,
   "metadata": {},
   "outputs": [
    {
     "data": {
      "text/plain": [
       "array(['(direct) / (none)', 'af.uppromote.com / referral',\n",
       "       'facebook.com / referral', 'google / organic',\n",
       "       'google / product_sync', 'l.facebook.com / referral',\n",
       "       'l.instagram.com / referral', 'duckduckgo / organic',\n",
       "       'facebook / ads', 'instagram.com / referral',\n",
       "       'lm.facebook.com / referral', 'm.facebook.com / referral',\n",
       "       'in.search.yahoo.com / referral', 'referral / post',\n",
       "       'loox.io / referral', 'bing / organic',\n",
       "       'couponseeker.com / referral', 'flow / sms'], dtype=object)"
      ]
     },
     "execution_count": 20,
     "metadata": {},
     "output_type": "execute_result"
    }
   ],
   "source": [
    "ga_daily['ga:sourceMedium'].unique()"
   ]
  },
  {
   "cell_type": "code",
   "execution_count": 24,
   "metadata": {},
   "outputs": [],
   "source": [
    "ga_daily.head()\n",
    "ga_daily['date_start']=ga_daily['start_date']"
   ]
  },
  {
   "cell_type": "code",
   "execution_count": 25,
   "metadata": {},
   "outputs": [],
   "source": [
    "f=pd.merge(ga_daily,platform,on='date_start')"
   ]
  },
  {
   "cell_type": "code",
   "execution_count": 28,
   "metadata": {},
   "outputs": [
    {
     "name": "stdout",
     "output_type": "stream",
     "text": [
      "<class 'pandas.core.frame.DataFrame'>\n",
      "Int64Index: 23954 entries, 0 to 23953\n",
      "Data columns (total 54 columns):\n",
      " #   Column                                                       Non-Null Count  Dtype  \n",
      "---  ------                                                       --------------  -----  \n",
      " 0   start_date                                                   23954 non-null  object \n",
      " 1   end_date                                                     23954 non-null  object \n",
      " 2   ga:sourceMedium                                              23954 non-null  object \n",
      " 3   ga:currencyCode                                              23954 non-null  object \n",
      " 4   ga:sessions                                                  23954 non-null  int64  \n",
      " 5   ga:organicSearches                                           23954 non-null  int64  \n",
      " 6   ga:users                                                     23954 non-null  int64  \n",
      " 7   ga:transactions                                              23954 non-null  int64  \n",
      " 8   ga:transactionsPerSession                                    23954 non-null  float64\n",
      " 9   ga:transactionRevenue                                        23954 non-null  float64\n",
      " 10  ga:totalValue                                                23954 non-null  float64\n",
      " 11  ga:itemQuantity                                              23954 non-null  int64  \n",
      " 12  ga:transactionsPerUser                                       23954 non-null  float64\n",
      " 13  date_start                                                   23954 non-null  object \n",
      " 14  ad_id                                                        23954 non-null  int64  \n",
      " 15  clicks                                                       23954 non-null  int64  \n",
      " 16  impressions                                                  23954 non-null  int64  \n",
      " 17  date_stop                                                    23954 non-null  object \n",
      " 18  website_ctr                                                  10066 non-null  float64\n",
      " 19  reach                                                        23954 non-null  int64  \n",
      " 20  frequency                                                    23954 non-null  float64\n",
      " 21  spend                                                        23954 non-null  float64\n",
      " 22  publisher_platform                                           23954 non-null  object \n",
      " 23  actions_link_click                                           10066 non-null  float64\n",
      " 24  actions_post_engagement                                      10328 non-null  float64\n",
      " 25  actions_page_engagement                                      10328 non-null  float64\n",
      " 26  actions_onsite_conversion.post_save                          1589 non-null   float64\n",
      " 27  actions_post_reaction                                        4872 non-null   float64\n",
      " 28  action_values_offsite_conversion.fb_pixel_add_to_cart        788 non-null    float64\n",
      " 29  action_values_offsite_conversion.fb_pixel_initiate_checkout  751 non-null    float64\n",
      " 30  action_values_offsite_conversion.fb_pixel_view_content       4700 non-null   float64\n",
      " 31  action_values_omni_add_to_cart                               788 non-null    float64\n",
      " 32  action_values_omni_initiated_checkout                        751 non-null    float64\n",
      " 33  action_values_omni_view_content                              4700 non-null   float64\n",
      " 34  action_values_add_to_cart                                    788 non-null    float64\n",
      " 35  action_values_initiate_checkout                              751 non-null    float64\n",
      " 36  actions_offsite_conversion.fb_pixel_add_to_cart              856 non-null    float64\n",
      " 37  actions_offsite_conversion.fb_pixel_initiate_checkout        953 non-null    float64\n",
      " 38  actions_offsite_conversion.fb_pixel_view_content             4762 non-null   float64\n",
      " 39  actions_add_to_cart                                          856 non-null    float64\n",
      " 40  actions_initiate_checkout                                    953 non-null    float64\n",
      " 41  actions_landing_page_view                                    4652 non-null   float64\n",
      " 42  actions_view_content                                         4762 non-null   float64\n",
      " 43  actions_post                                                 469 non-null    float64\n",
      " 44  action_values_offsite_conversion.fb_pixel_add_payment_info   500 non-null    float64\n",
      " 45  action_values_offsite_conversion.fb_pixel_purchase           500 non-null    float64\n",
      " 46  action_values_add_payment_info                               500 non-null    float64\n",
      " 47  actions_offsite_conversion.fb_pixel_add_payment_info         500 non-null    float64\n",
      " 48  actions_offsite_conversion.fb_pixel_purchase                 500 non-null    float64\n",
      " 49  actions_purchase                                             500 non-null    float64\n",
      " 50  actions_offsite_conversion.fb_pixel_search                   140 non-null    float64\n",
      " 51  actions_search                                               140 non-null    float64\n",
      " 52  actions_offsite_conversion.fb_pixel_lead                     62 non-null     float64\n",
      " 53  actions_comment                                              105 non-null    float64\n",
      "dtypes: float64(38), int64(9), object(7)\n",
      "memory usage: 10.1+ MB\n"
     ]
    }
   ],
   "source": [
    "f.info()"
   ]
  },
  {
   "cell_type": "code",
   "execution_count": 31,
   "metadata": {},
   "outputs": [],
   "source": [
    "df['Source']=f['publisher_platform']"
   ]
  },
  {
   "cell_type": "code",
   "execution_count": 32,
   "metadata": {},
   "outputs": [],
   "source": [
    "df['Date']=f['date_start']"
   ]
  },
  {
   "cell_type": "code",
   "execution_count": 34,
   "metadata": {},
   "outputs": [],
   "source": [
    "df['Sessions']=f['ga:sessions']"
   ]
  },
  {
   "cell_type": "code",
   "execution_count": 35,
   "metadata": {},
   "outputs": [],
   "source": [
    "df['users']=f['ga:users']\n"
   ]
  },
  {
   "cell_type": "code",
   "execution_count": 36,
   "metadata": {},
   "outputs": [],
   "source": [
    "df['Transactions']=f['ga:transactions']\n"
   ]
  },
  {
   "cell_type": "code",
   "execution_count": 37,
   "metadata": {},
   "outputs": [],
   "source": [
    "df['Revenue']=f['ga:transactionRevenue']\n"
   ]
  },
  {
   "cell_type": "code",
   "execution_count": 38,
   "metadata": {},
   "outputs": [],
   "source": [
    "df['Order_quantity']=f['ga:itemQuantity']"
   ]
  },
  {
   "cell_type": "code",
   "execution_count": 39,
   "metadata": {},
   "outputs": [],
   "source": [
    "df['Transactions_per_user']=f['ga:transactionsPerUser']"
   ]
  },
  {
   "cell_type": "code",
   "execution_count": 47,
   "metadata": {},
   "outputs": [],
   "source": [
    "df['Total_Amount']=df['Order_quantity']*df['Transactions_per_user']"
   ]
  },
  {
   "cell_type": "code",
   "execution_count": 48,
   "metadata": {},
   "outputs": [
    {
     "data": {
      "text/html": [
       "<div>\n",
       "<style scoped>\n",
       "    .dataframe tbody tr th:only-of-type {\n",
       "        vertical-align: middle;\n",
       "    }\n",
       "\n",
       "    .dataframe tbody tr th {\n",
       "        vertical-align: top;\n",
       "    }\n",
       "\n",
       "    .dataframe thead th {\n",
       "        text-align: right;\n",
       "    }\n",
       "</style>\n",
       "<table border=\"1\" class=\"dataframe\">\n",
       "  <thead>\n",
       "    <tr style=\"text-align: right;\">\n",
       "      <th></th>\n",
       "      <th>Source</th>\n",
       "      <th>Date</th>\n",
       "      <th>Sessions</th>\n",
       "      <th>users</th>\n",
       "      <th>Transactions</th>\n",
       "      <th>Revenue</th>\n",
       "      <th>Order_quantity</th>\n",
       "      <th>Transactions_per_user</th>\n",
       "      <th>Total_Amount</th>\n",
       "    </tr>\n",
       "  </thead>\n",
       "  <tbody>\n",
       "    <tr>\n",
       "      <th>0</th>\n",
       "      <td>facebook</td>\n",
       "      <td>2022-02-03</td>\n",
       "      <td>16</td>\n",
       "      <td>14</td>\n",
       "      <td>0</td>\n",
       "      <td>0.0</td>\n",
       "      <td>0</td>\n",
       "      <td>0.0</td>\n",
       "      <td>0.0</td>\n",
       "    </tr>\n",
       "    <tr>\n",
       "      <th>1</th>\n",
       "      <td>instagram</td>\n",
       "      <td>2022-02-03</td>\n",
       "      <td>16</td>\n",
       "      <td>14</td>\n",
       "      <td>0</td>\n",
       "      <td>0.0</td>\n",
       "      <td>0</td>\n",
       "      <td>0.0</td>\n",
       "      <td>0.0</td>\n",
       "    </tr>\n",
       "    <tr>\n",
       "      <th>2</th>\n",
       "      <td>messenger</td>\n",
       "      <td>2022-02-03</td>\n",
       "      <td>16</td>\n",
       "      <td>14</td>\n",
       "      <td>0</td>\n",
       "      <td>0.0</td>\n",
       "      <td>0</td>\n",
       "      <td>0.0</td>\n",
       "      <td>0.0</td>\n",
       "    </tr>\n",
       "    <tr>\n",
       "      <th>3</th>\n",
       "      <td>unknown</td>\n",
       "      <td>2022-02-03</td>\n",
       "      <td>16</td>\n",
       "      <td>14</td>\n",
       "      <td>0</td>\n",
       "      <td>0.0</td>\n",
       "      <td>0</td>\n",
       "      <td>0.0</td>\n",
       "      <td>0.0</td>\n",
       "    </tr>\n",
       "    <tr>\n",
       "      <th>4</th>\n",
       "      <td>facebook</td>\n",
       "      <td>2022-02-03</td>\n",
       "      <td>16</td>\n",
       "      <td>14</td>\n",
       "      <td>0</td>\n",
       "      <td>0.0</td>\n",
       "      <td>0</td>\n",
       "      <td>0.0</td>\n",
       "      <td>0.0</td>\n",
       "    </tr>\n",
       "  </tbody>\n",
       "</table>\n",
       "</div>"
      ],
      "text/plain": [
       "      Source        Date  Sessions  users  Transactions  Revenue  \\\n",
       "0   facebook  2022-02-03        16     14             0      0.0   \n",
       "1  instagram  2022-02-03        16     14             0      0.0   \n",
       "2  messenger  2022-02-03        16     14             0      0.0   \n",
       "3    unknown  2022-02-03        16     14             0      0.0   \n",
       "4   facebook  2022-02-03        16     14             0      0.0   \n",
       "\n",
       "   Order_quantity  Transactions_per_user  Total_Amount  \n",
       "0               0                    0.0           0.0  \n",
       "1               0                    0.0           0.0  \n",
       "2               0                    0.0           0.0  \n",
       "3               0                    0.0           0.0  \n",
       "4               0                    0.0           0.0  "
      ]
     },
     "execution_count": 48,
     "metadata": {},
     "output_type": "execute_result"
    }
   ],
   "source": [
    "df.head()"
   ]
  },
  {
   "cell_type": "code",
   "execution_count": null,
   "metadata": {},
   "outputs": [],
   "source": []
  }
 ],
 "metadata": {
  "kernelspec": {
   "display_name": "Python 3",
   "language": "python",
   "name": "python3"
  },
  "language_info": {
   "codemirror_mode": {
    "name": "ipython",
    "version": 3
   },
   "file_extension": ".py",
   "mimetype": "text/x-python",
   "name": "python",
   "nbconvert_exporter": "python",
   "pygments_lexer": "ipython3",
   "version": "3.8.3"
  }
 },
 "nbformat": 4,
 "nbformat_minor": 4
}
